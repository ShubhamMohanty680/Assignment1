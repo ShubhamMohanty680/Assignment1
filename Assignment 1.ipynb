{
 "cells": [
  {
   "cell_type": "markdown",
   "id": "1c1d3cde",
   "metadata": {},
   "source": [
    "1. Guido van Rossum"
   ]
  },
  {
   "cell_type": "markdown",
   "id": "e168b762",
   "metadata": {},
   "source": [
    "2. Python supports procedural,object-oriented and functional programming"
   ]
  },
  {
   "cell_type": "markdown",
   "id": "460ab5b9",
   "metadata": {},
   "source": [
    "3. Yes, it is case sensitive when dealing with identifiers"
   ]
  },
  {
   "cell_type": "markdown",
   "id": "d7c11176",
   "metadata": {},
   "source": [
    "4. .py is the correct extension of python"
   ]
  },
  {
   "cell_type": "markdown",
   "id": "f060493c",
   "metadata": {},
   "source": [
    "5. Python is an interpreted langauge"
   ]
  },
  {
   "cell_type": "markdown",
   "id": "874b120e",
   "metadata": {},
   "source": [
    "6. Indentation is used to define blocks of code in python"
   ]
  },
  {
   "cell_type": "markdown",
   "id": "f60a8a28",
   "metadata": {},
   "source": [
    "7. '#' is used for single line comment"
   ]
  },
  {
   "cell_type": "markdown",
   "id": "a61ff506",
   "metadata": {},
   "source": [
    "8. version is the fuunction used to know the current version of python\n",
    "   (python --version)"
   ]
  },
  {
   "cell_type": "markdown",
   "id": "b77f6a47",
   "metadata": {},
   "source": [
    "9. Lambda Function"
   ]
  },
  {
   "cell_type": "markdown",
   "id": "d9c36c45",
   "metadata": {},
   "source": [
    "10. pip stands for preferred  installer program.It is used to install python packages."
   ]
  },
  {
   "cell_type": "markdown",
   "id": "8be03ffe",
   "metadata": {},
   "source": [
    "11. Built-in Functions in python is as:\n",
    "     ->len()\n",
    "     ->list()\n",
    "     ->range()\n",
    "     ->type()\n",
    "     ->tuple()"
   ]
  },
  {
   "cell_type": "markdown",
   "id": "231944d7",
   "metadata": {},
   "source": [
    "12. 79 characters"
   ]
  },
  {
   "cell_type": "markdown",
   "id": "1a29afa1",
   "metadata": {},
   "source": [
    "13. -> Dynamically Typed language\n",
    "    ->Support to massive inbuilt libraries(numpy,pandas,seaborn etc.)\n",
    "    ->Open Source\n",
    "    ->Easily Portable\n",
    "    -> Large Community Support"
   ]
  },
  {
   "cell_type": "markdown",
   "id": "390f5573",
   "metadata": {},
   "source": [
    "14. Python uses automatic memory management, which means the Python memory manager automatically handles memory allocation and    deallocation. The memory manager uses a reference counting system to track the number of references to objects in memory,    and frees the memory occupied by an object when its reference count reaches zero. Additionally, Python has a garbage collector that periodically frees up memory occupied by objects that are no longer being used. This ensures that Python programs are able to efficiently use memory without the need for manual memory management."
   ]
  },
  {
   "cell_type": "markdown",
   "id": "37f7a94b",
   "metadata": {},
   "source": [
    "15. \n",
    "\n",
    "Installing Python 3\n",
    "1. Open a browser to the Python website and download Download the latest version of Python from the official website (https://www.python.org/downloads/).\n",
    "2. Double click on the downloaded file and install Python for all users, and ensure that Python is added to your path. Click on Install now to begin. Adding Python to the path will enable us to use the Python interpreter from any part of the filesystem.\n",
    "3. After the installation is complete, click Disable path length limit and then Close. Disabling the path length limit means we can use more than 260 characters in a file path.\n",
    "4. Click Close to end the installation.\n",
    "\n",
    "Adding Into environment variable\n",
    "1.Right-clicking This PC and going to Properties.\n",
    "2.Clicking on the Advanced system settings in the menu on the left.\n",
    "3.Clicking on the Environment Variables button on the bottom right.\n",
    "4.In the System variables section, selecting the Path variable and clicking on Edit. The next screen will show all the\n",
    "directories that are currently a part of the PATH variable.\n",
    "5.Clicking on New and entering Python’s install directory."
   ]
  },
  {
   "cell_type": "markdown",
   "id": "780fe8c2",
   "metadata": {},
   "source": [
    "16. Yes, Indentation is required in python."
   ]
  }
 ],
 "metadata": {
  "kernelspec": {
   "display_name": "Python 3 (ipykernel)",
   "language": "python",
   "name": "python3"
  },
  "language_info": {
   "codemirror_mode": {
    "name": "ipython",
    "version": 3
   },
   "file_extension": ".py",
   "mimetype": "text/x-python",
   "name": "python",
   "nbconvert_exporter": "python",
   "pygments_lexer": "ipython3",
   "version": "3.9.12"
  }
 },
 "nbformat": 4,
 "nbformat_minor": 5
}
